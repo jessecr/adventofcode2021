{
 "cells": [
  {
   "cell_type": "code",
   "execution_count": 64,
   "metadata": {},
   "outputs": [],
   "source": [
    "\n",
    "\n",
    "\n",
    "class Pair:\n",
    "    def __init__(self, children) -> None:\n",
    "        self.children = []\n",
    "        self.set_children(children)\n",
    "        self.parent = None\n",
    "\n",
    "    def set_children(self, children):\n",
    "        if len(children) != 2:\n",
    "            raise ValueError(\"Must have 2 children\")\n",
    "        self.children = children\n",
    "        for child in children:\n",
    "            if isinstance(child, self.__class__):\n",
    "                child.parent = self\n",
    "\n",
    "    def __eq__(self, other):\n",
    "        return (\n",
    "            self.__class__ == other.__class__\n",
    "            and self.children == other.children\n",
    "            and self.parent == other.parent\n",
    "        )\n",
    "\n",
    "    @classmethod\n",
    "    def from_pair(cls, pair):\n",
    "        children = []\n",
    "        for item in pair:\n",
    "            if isinstance(item, list):\n",
    "                children.append(Pair.from_pair(item))\n",
    "            else:\n",
    "                children.append(item)\n",
    "        return cls(children=children)\n",
    "\n",
    "    def get_adjacent_number(self, idx):\n",
    "        other_idx = abs(idx - 1)\n",
    "        if self.parent.children[other_idx] == self:\n",
    "            other = self.parent.children[idx]\n",
    "            if isinstance(other, self.__class__):\n",
    "                return other.get_first_number(other_idx)\n",
    "            return other\n",
    "        return self.parent.get_adjacent_number(idx)\n",
    "\n",
    "    def get_first_number(self, idx):\n",
    "        if isinstance(self.children[idx], self.__class__):\n",
    "            return self.children[idx].get_first_number(idx)\n",
    "        else:\n",
    "            return self.children[idx]\n"
   ]
  },
  {
   "cell_type": "code",
   "execution_count": 149,
   "metadata": {},
   "outputs": [],
   "source": [
    "import math"
   ]
  },
  {
   "cell_type": "code",
   "execution_count": 150,
   "metadata": {},
   "outputs": [],
   "source": [
    "class Node:\n",
    "    def __init__(self, value=None, pair=None) -> None:\n",
    "        self.value = value\n",
    "        self.parent = None\n",
    "        self.left = None\n",
    "        self.right = None\n",
    "        if pair is not None:\n",
    "            self.set_pair(*pair)\n",
    "\n",
    "    # def __eq__(self, other):\n",
    "    #     return (\n",
    "    #         self.__class__ == other.__class__\n",
    "    #         and self.value == other.value\n",
    "    #         and self.parent == other.parent\n",
    "    #         and self.left == other.left\n",
    "    #         and self.right == other.right\n",
    "    #     )\n",
    "\n",
    "    def set_pair(self, left, right):\n",
    "        if self.left is not None:\n",
    "            self.left.parent = None\n",
    "        if self.right is not None:\n",
    "            self.right.parent = None\n",
    "        self.left = left\n",
    "        self.right = right\n",
    "        self.left.parent = self\n",
    "        self.right.parent = self\n",
    "\n",
    "    def remove_pair(self):\n",
    "        if self.left is not None:\n",
    "            self.left.parent = None\n",
    "            self.left = None\n",
    "        if self.right is not None:\n",
    "            self.right.parent = None\n",
    "            self.right = None\n",
    "\n",
    "    def __repr__(self) -> str:\n",
    "        return f'Node<v={self.value} l={self.left is not None} r={self.right is not None}>'\n",
    "\n",
    "    @classmethod\n",
    "    def from_pair(cls, pair):\n",
    "        children = []\n",
    "        for item in pair:\n",
    "            if isinstance(item, list):\n",
    "                children.append(cls.from_pair(item))\n",
    "            else:\n",
    "                children.append(cls(value=item))\n",
    "        return cls(pair=children)\n",
    "\n",
    "    def get_number_to_left(self):\n",
    "        if not self.parent:\n",
    "            return None\n",
    "        if self.parent.right is self:\n",
    "            if self.parent.left.value is not None:\n",
    "                return self.parent.left\n",
    "            node = self.parent.left\n",
    "            while node.right is not None:\n",
    "                node = node.right\n",
    "            return node\n",
    "        return self.parent.get_number_to_left()\n",
    "\n",
    "    def get_number_to_right(self):\n",
    "        if not self.parent:\n",
    "            return None\n",
    "        if self.parent.left is self:\n",
    "            if self.parent.right.value is not None:\n",
    "                return self.parent.right\n",
    "            node = self.parent.right\n",
    "            while node.left is not None:\n",
    "                node = node.left\n",
    "            return node\n",
    "        return self.parent.get_number_to_right()\n",
    "\n",
    "    def explode(self):\n",
    "        left2 = self.left.get_number_to_left()\n",
    "        right2 = self.right.get_number_to_right()\n",
    "        if left2:\n",
    "            left2.value += self.left.value\n",
    "        if right2:\n",
    "            right2.value += self.right.value\n",
    "        self.remove_pair()\n",
    "        self.value = 0\n",
    "\n",
    "    def split(self):\n",
    "        if self.value is not None:\n",
    "            raise ValueError(\"value must be set to split\")\n",
    "        left = Node(value=self.value // 2)\n",
    "        right = Node(value=int(math.ceil(self.value / 2)))\n",
    "        self.set_pair(left, right)\n",
    "        self.value = None"
   ]
  },
  {
   "cell_type": "code",
   "execution_count": 140,
   "metadata": {},
   "outputs": [],
   "source": [
    "p = Node.from_pair([[3,[2,[1,[7,3]]]],[6,[5,[4,[3,2]]]]])"
   ]
  },
  {
   "cell_type": "code",
   "execution_count": 141,
   "metadata": {},
   "outputs": [],
   "source": [
    "c = p.left.right.right.right"
   ]
  },
  {
   "cell_type": "code",
   "execution_count": 143,
   "metadata": {},
   "outputs": [],
   "source": [
    "c.explode()"
   ]
  },
  {
   "cell_type": "code",
   "execution_count": 147,
   "metadata": {},
   "outputs": [
    {
     "data": {
      "text/plain": [
       "Node<v=9 l=False r=False>"
      ]
     },
     "execution_count": 147,
     "metadata": {},
     "output_type": "execute_result"
    }
   ],
   "source": [
    "c.get_number_to_right()"
   ]
  }
 ],
 "metadata": {
  "interpreter": {
   "hash": "61c857870988a9fae64b19d65196016545575ba9cf2136e897e3d2bf5265e315"
  },
  "kernelspec": {
   "display_name": "Python 3.9.6 64-bit ('venv': venv)",
   "language": "python",
   "name": "python3"
  },
  "language_info": {
   "codemirror_mode": {
    "name": "ipython",
    "version": 3
   },
   "file_extension": ".py",
   "mimetype": "text/x-python",
   "name": "python",
   "nbconvert_exporter": "python",
   "pygments_lexer": "ipython3",
   "version": "3.9.6"
  },
  "orig_nbformat": 4
 },
 "nbformat": 4,
 "nbformat_minor": 2
}
