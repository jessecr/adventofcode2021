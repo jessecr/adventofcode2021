{
 "cells": [
  {
   "cell_type": "code",
   "execution_count": 450,
   "metadata": {},
   "outputs": [],
   "source": [
    "from collections import defaultdict\n",
    "from copy import deepcopy\n",
    "from itertools import chain, combinations\n",
    "import numpy as np"
   ]
  },
  {
   "cell_type": "code",
   "execution_count": 704,
   "metadata": {},
   "outputs": [],
   "source": [
    "\n",
    "input_file = \"example_input\"\n",
    "input_file = \"input\"\n",
    "\n",
    "input_text = open(input_file).read()\n",
    "\n",
    "def parse_input(inp):\n",
    "    scanners = []\n",
    "    scanner = []\n",
    "    for line in inp.splitlines():\n",
    "        if not line.strip():\n",
    "            scanners.append(scanner)\n",
    "            scanner = []\n",
    "        elif '---' not in line:\n",
    "            scanner.append(np.array(list(map(int, line.split(',')))))\n",
    "    scanners.append(scanner)\n",
    "    return scanners\n",
    "\n"
   ]
  },
  {
   "cell_type": "code",
   "execution_count": 460,
   "metadata": {},
   "outputs": [],
   "source": [
    "def get_beacon_distances(scanner):\n",
    "    distances = defaultdict(list)\n",
    "    for i in range(len(scanner)):\n",
    "        src = scanner[i]\n",
    "        for j in range(i + 1, len(scanner)):\n",
    "            dist = np.linalg.norm(src - scanner[j])\n",
    "            if dist in distances:\n",
    "                raise ValueError(\"Dupe distance\", i)\n",
    "            distances[dist] = (i, j)\n",
    "    return distances\n"
   ]
  },
  {
   "cell_type": "code",
   "execution_count": 705,
   "metadata": {},
   "outputs": [],
   "source": [
    "scanners = parse_input(input_text)\n",
    "beacon_distances_to_ids = [get_beacon_distances(sc) for sc in scanners]"
   ]
  },
  {
   "cell_type": "code",
   "execution_count": 706,
   "metadata": {},
   "outputs": [],
   "source": [
    "id_maps = {}\n",
    "for i in range(len(beacon_distances_to_ids)):\n",
    "    src_ds = beacon_distances_to_ids[i]\n",
    "    src_id_maps = {}\n",
    "    for j in range(i + 1, len(beacon_distances_to_ids)):\n",
    "        dst_ds = beacon_distances_to_ids[j]\n",
    "\n",
    "        distances = set(src_ds).intersection(dst_ds)\n",
    "\n",
    "        src_ids = set(chain(*[src_ds[k] for k in distances]))\n",
    "        dst_ids = set(chain(*[dst_ds[k] for k in distances]))\n",
    "\n",
    "        id_map = {}\n",
    "        for dist1, dist2 in combinations(distances, 2):\n",
    "            common = set(src_ds[dist1]).intersection(src_ds[dist2])\n",
    "            if common and not common.intersection(id_map):\n",
    "                common2 = set(dst_ds[dist1]).intersection(dst_ds[dist2])\n",
    "\n",
    "                id_map[list(common)[0]] = list(common2)[0]\n",
    "\n",
    "        src_id_maps[j] = id_map\n",
    "    id_maps[i] = src_id_maps\n"
   ]
  },
  {
   "cell_type": "code",
   "execution_count": 707,
   "metadata": {},
   "outputs": [],
   "source": [
    "id_maps_full = deepcopy(id_maps)\n",
    "for sca, v in id_maps.items():\n",
    "    for scb, mapping in v.items():\n",
    "        id_maps_full[scb][sca] = dict(ids[::-1] for ids in mapping.items())\n",
    "\n",
    "id_maps_12 = {}\n",
    "for k, v in id_maps.items():\n",
    "    id_maps_12[k] = {k2: v2 for k2, v2 in v.items() if len(v2) >= 12}\n",
    "    \n",
    "id_maps_12_full = deepcopy(id_maps_12)\n",
    "for sca, v in id_maps_12.items():\n",
    "    for scb, mapping in v.items():\n",
    "        id_maps_12_full[scb][sca] = dict(ids[::-1] for ids in mapping.items())"
   ]
  },
  {
   "cell_type": "code",
   "execution_count": 687,
   "metadata": {},
   "outputs": [
    {
     "name": "stdout",
     "output_type": "stream",
     "text": [
      "0 1 12\n",
      "0 2 3\n",
      "0 3 0\n",
      "0 4 6\n",
      "1 2 6\n",
      "1 3 12\n",
      "1 4 12\n",
      "2 3 3\n",
      "2 4 12\n",
      "3 4 6\n"
     ]
    }
   ],
   "source": [
    "for a, v in id_maps.items():\n",
    "    for b, v2 in v.items():\n",
    "        print(a, b, len(v2))"
   ]
  },
  {
   "cell_type": "code",
   "execution_count": null,
   "metadata": {},
   "outputs": [],
   "source": [
    "def get_beacon_distances(scanner):\n",
    "    distances = defaultdict(list)\n",
    "    for i in range(len(scanner)):\n",
    "        src = scanner[i]\n",
    "        for j in range(i + 1, len(scanner)):\n",
    "            dist = np.linalg.norm(src - scanner[j])\n",
    "            if dist in distances:\n",
    "                raise ValueError(\"Dupe distance\", i)\n",
    "            distances[dist] = (i, j)\n",
    "    return distances\n"
   ]
  },
  {
   "cell_type": "code",
   "execution_count": 710,
   "metadata": {},
   "outputs": [
    {
     "name": "stdout",
     "output_type": "stream",
     "text": [
      "1 0 [0, 2, 1] [ 1. -1.  1.] [   64.  -168. -1295.]\n",
      "25 1 [1, 2, 0] [-1.  1. -1.] [  -55. -1099.  -121.]\n",
      "0 1 [0, 2, 1] [ 1.  1. -1.] [ -64. 1295. -168.]\n",
      "13 2 [1, 2, 0] [-1. -1.  1.] [-151. 1301.  156.]\n",
      "27 2 [0, 2, 1] [ 1. -1.  1.] [   21. -1128.    36.]\n",
      "16 3 [0, 1, 2] [-1. -1.  1.] [ -67.  -34. 1269.]\n",
      "19 3 [1, 0, 2] [ 1. -1.  1.] [1140.   53.  -57.]\n",
      "20 3 [1, 0, 2] [-1.  1.  1.] [   3. 1256.   34.]\n",
      "22 3 [2, 0, 1] [-1.  1. -1.] [ -157.    65. -1193.]\n",
      "26 3 [2, 1, 0] [-1.  1.  1.] [ -101. -1136.   -39.]\n",
      "27 4 [2, 0, 1] [-1. -1.  1.] [  12. 1185. -122.]\n",
      "30 4 [1, 2, 0] [-1. -1.  1.] [-1145.   163.  -167.]\n",
      "37 4 [2, 1, 0] [-1.  1.  1.] [ -116.   107. -1262.]\n",
      "8 5 [2, 0, 1] [-1.  1. -1.] [1155. -132.   62.]\n",
      "11 6 [2, 1, 0] [-1.  1.  1.] [  -44. -1328.   123.]\n",
      "33 6 [1, 0, 2] [-1.  1.  1.] [1120. -121.  -40.]\n",
      "8 7 [0, 1, 2] [ 1. -1. -1.] [  -15. -1141.    70.]\n",
      "14 7 [0, 1, 2] [-1. -1.  1.] [-1136.   106.   -38.]\n",
      "29 7 [1, 0, 2] [ 1.  1. -1.] [  91.  147. 1158.]\n",
      "16 8 [2, 0, 1] [ 1. -1. -1.] [-1102.    25.   -62.]\n",
      "21 8 [2, 1, 0] [-1.  1.  1.] [   33.   104. -1173.]\n",
      "31 8 [1, 0, 2] [ 1. -1.  1.] [1322.   -8.   55.]\n",
      "5 8 [1, 2, 0] [ 1. -1. -1.] [ 132.   62. 1155.]\n",
      "7 8 [0, 1, 2] [ 1. -1. -1.] [   15. -1141.    70.]\n",
      "23 9 [0, 2, 1] [-1. -1. -1.] [ -128.  -106. -1071.]\n",
      "24 10 [1, 2, 0] [1. 1. 1.] [  -77.   119. -1247.]\n",
      "28 10 [0, 1, 2] [ 1. -1. -1.] [-1230.   122.   -59.]\n",
      "35 11 [1, 2, 0] [-1.  1. -1.] [-1235.   108.    20.]\n",
      "6 11 [2, 1, 0] [ 1.  1. -1.] [-123. 1328.  -44.]\n",
      "14 12 [1, 0, 2] [-1.  1.  1.] [-1196.    15.   -96.]\n",
      "18 12 [0, 1, 2] [ 1. -1. -1.] [-108. 1353.    8.]\n",
      "2 13 [2, 0, 1] [ 1. -1. -1.] [-156. -151. 1301.]\n",
      "16 14 [2, 0, 1] [-1. -1.  1.] [ -19. 1272.  170.]\n",
      "7 14 [0, 1, 2] [-1. -1.  1.] [-1136.   106.    38.]\n",
      "12 14 [1, 0, 2] [ 1. -1.  1.] [  -15. -1196.    96.]\n",
      "20 15 [2, 0, 1] [1. 1. 1.] [    7.    89. -1369.]\n",
      "39 15 [0, 2, 1] [ 1.  1. -1.] [ -32. 1240.  -49.]\n",
      "3 16 [0, 1, 2] [-1. -1.  1.] [  -67.   -34. -1269.]\n",
      "8 16 [1, 2, 0] [-1. -1.  1.] [  25.  -62. 1102.]\n",
      "14 16 [1, 2, 0] [-1.  1. -1.] [1272. -170.  -19.]\n",
      "18 17 [1, 2, 0] [-1. -1.  1.] [-1129.   -15.   -75.]\n",
      "12 18 [0, 1, 2] [ 1. -1. -1.] [ 108. 1353.    8.]\n",
      "17 18 [2, 0, 1] [ 1. -1. -1.] [   75. -1129.   -15.]\n",
      "25 19 [2, 0, 1] [-1. -1.  1.] [-1305.   -70.   112.]\n",
      "3 19 [1, 0, 2] [-1.  1.  1.] [   53. -1140.    57.]\n",
      "25 20 [2, 0, 1] [1. 1. 1.] [  102. -1067.    21.]\n",
      "3 20 [1, 0, 2] [ 1. -1.  1.] [-1256.     3.   -34.]\n",
      "15 20 [1, 2, 0] [1. 1. 1.] [ -89. 1369.   -7.]\n",
      "29 21 [2, 0, 1] [ 1. -1. -1.] [   85. -1392.   -73.]\n",
      "8 21 [2, 1, 0] [ 1.  1. -1.] [1173. -104.   33.]\n",
      "23 22 [2, 1, 0] [-1. -1. -1.] [-1299.    55.  -152.]\n",
      "3 22 [1, 2, 0] [ 1. -1. -1.] [  -65. -1193.  -157.]\n",
      "26 23 [2, 0, 1] [-1.  1. -1.] [ -96. 1209.  -98.]\n",
      "9 23 [0, 2, 1] [-1. -1. -1.] [ -128. -1071.  -106.]\n",
      "22 23 [2, 1, 0] [-1. -1. -1.] [ -152.    55. -1299.]\n",
      "10 24 [2, 0, 1] [1. 1. 1.] [1247.   77. -119.]\n",
      "38 25 [2, 0, 1] [1. 1. 1.] [  37. 1222. -184.]\n",
      "1 25 [2, 0, 1] [-1. -1.  1.] [-121.  -55. 1099.]\n",
      "19 25 [1, 2, 0] [-1.  1. -1.] [  -70.  -112. -1305.]\n",
      "20 25 [1, 2, 0] [1. 1. 1.] [1067.  -21. -102.]\n",
      "3 26 [2, 1, 0] [ 1.  1. -1.] [  39. 1136. -101.]\n",
      "23 26 [1, 2, 0] [ 1. -1. -1.] [-1209.   -98.   -96.]\n",
      "2 27 [0, 2, 1] [ 1.  1. -1.] [  -21.   -36. -1128.]\n",
      "4 27 [1, 2, 0] [-1.  1. -1.] [1185.  122.   12.]\n",
      "31 28 [2, 0, 1] [-1. -1.  1.] [ 1.900e+01 -1.146e+03  1.000e+00]\n",
      "10 28 [0, 1, 2] [ 1. -1. -1.] [1230.  122.  -59.]\n",
      "36 29 [1, 2, 0] [ 1. -1. -1.] [ -10. 1130. -157.]\n",
      "7 29 [1, 0, 2] [ 1.  1. -1.] [-147.  -91. 1158.]\n",
      "21 29 [1, 2, 0] [-1. -1.  1.] [-1392.   -73.   -85.]\n",
      "36 30 [1, 2, 0] [-1.  1. -1.] [ -12. 1288.    6.]\n",
      "4 30 [2, 0, 1] [ 1. -1. -1.] [  167. -1145.   163.]\n",
      "8 31 [1, 0, 2] [-1.  1.  1.] [   -8. -1322.   -55.]\n",
      "28 31 [1, 2, 0] [-1.  1. -1.] [-1.146e+03 -1.000e+00  1.900e+01]\n",
      "35 32 [1, 0, 2] [-1. -1. -1.] [  -18.    77. -1329.]\n",
      "36 33 [2, 0, 1] [ 1. -1. -1.] [  65. -104. 1186.]\n",
      "6 33 [1, 0, 2] [ 1. -1.  1.] [ 121. 1120.   40.]\n",
      "35 34 [0, 2, 1] [-1.  1.  1.] [-1217.   115.   -73.]\n",
      "11 35 [2, 0, 1] [-1. -1.  1.] [   20. -1235.  -108.]\n",
      "32 35 [1, 0, 2] [-1. -1. -1.] [   77.   -18. -1329.]\n",
      "34 35 [0, 2, 1] [-1.  1.  1.] [-1217.    73.  -115.]\n",
      "29 36 [2, 0, 1] [-1.  1. -1.] [-157.   10. 1130.]\n",
      "30 36 [2, 0, 1] [-1. -1.  1.] [    6.   -12. -1288.]\n",
      "33 36 [1, 2, 0] [-1. -1.  1.] [-104. 1186.  -65.]\n",
      "4 37 [2, 1, 0] [ 1.  1. -1.] [1262. -107. -116.]\n",
      "25 38 [1, 2, 0] [1. 1. 1.] [-1222.   184.   -37.]\n",
      "15 39 [0, 2, 1] [ 1. -1.  1.] [   32.   -49. -1240.]\n"
     ]
    }
   ],
   "source": [
    "# Get offset. There is assuredly a fancy way of doing this. Do it the dumb way\n",
    "offsets = defaultdict(dict)\n",
    "for sc1, v in id_maps_12_full.items():\n",
    "    for sc2, v2 in v.items():\n",
    "        # if sc1 != 0 or sc2 != 1:\n",
    "        #     continue\n",
    "        \n",
    "        if len(v2) < 3:\n",
    "            continue\n",
    "        \n",
    "        idx_pairs = list(v2.items())\n",
    "        for i in range(len(idx_pairs) - 1):\n",
    "            sc1_id1, sc2_id1 = idx_pairs[i]\n",
    "            sc1_id2, sc2_id2 = idx_pairs[i + 1]\n",
    "\n",
    "            sc1_id1_pos = scanners[sc1][sc1_id1]\n",
    "            sc1_id2_pos = scanners[sc1][sc1_id2]\n",
    "            sc2_id1_pos = scanners[sc2][sc2_id1]\n",
    "            sc2_id2_pos = scanners[sc2][sc2_id2]\n",
    "            \n",
    "            sc1_offset = sc1_id2_pos - sc1_id1_pos\n",
    "            sc2_offset = sc2_id2_pos - sc2_id1_pos\n",
    "\n",
    "            sc1_abs = abs(sc1_offset)\n",
    "            sc2_abs = abs(sc2_offset)\n",
    "\n",
    "            if len(np.unique(sc1_abs)) != 3 or len(np.unique(sc2_abs)) != 3:\n",
    "                continue\n",
    "\n",
    "            sc2_idx_mapping = [np.where(sc2_abs == v)[0][0] for v in sc1_abs]\n",
    "            sc2_offset_remapped = [sc2_offset[i] for i in sc2_idx_mapping]\n",
    "            sc2_sign_mapping = sc1_offset / sc2_offset_remapped\n",
    "\n",
    "            sc1_idx_mapping = [np.where(sc1_abs == v)[0][0] for v in sc2_abs]\n",
    "            sc1_offset_remapped = [sc1_offset[i] for i in sc1_idx_mapping]\n",
    "            sc1_sign_mapping = sc2_offset / sc1_offset_remapped\n",
    "\n",
    "            sc2_conv = [sc2_id1_pos[i] for i in sc2_idx_mapping]\n",
    "            sc2_conv_full = sc2_conv * sc2_sign_mapping\n",
    "            sc2_pos_offset = sc1_id1_pos - sc2_conv_full\n",
    "            sc1_pos_offset = sc2_conv_full - sc1_id1_pos\n",
    "\n",
    "            sc2_offsets = {'idx': sc2_idx_mapping, 'sign': sc2_sign_mapping, 'pos': sc2_pos_offset}\n",
    "            offsets[sc2][sc1] = sc2_offsets\n",
    "\n",
    "            sc1_offsets = {'idx': sc1_idx_mapping, 'sign': sc1_sign_mapping, 'pos': sc1_pos_offset}\n",
    "            # offsets[sc1][sc2] = sc1_offsets\n",
    "\n",
    "            print(sc2, sc1, sc2_idx_mapping, sc2_sign_mapping, sc2_pos_offset)\n",
    "            # print(sc1, sc2, sc1_idx_mapping, sc1_sign_mapping, sc1_pos_offset)\n",
    "            break"
   ]
  },
  {
   "cell_type": "code",
   "execution_count": 691,
   "metadata": {},
   "outputs": [
    {
     "data": {
      "text/plain": [
       "defaultdict(dict,\n",
       "            {1: {0: {'idx': [0, 1, 2],\n",
       "               'sign': array([-1.,  1., -1.]),\n",
       "               'pos': array([   68., -1246.,   -43.])},\n",
       "              2: {'idx': [0, 2, 1],\n",
       "               'sign': array([ 1., -1.,  1.]),\n",
       "               'pos': array([ 1037., -1272.,   -41.])},\n",
       "              3: {'idx': [0, 1, 2],\n",
       "               'sign': array([1., 1., 1.]),\n",
       "               'pos': array([-160., 1134.,   23.])},\n",
       "              4: {'idx': [2, 0, 1],\n",
       "               'sign': array([-1.,  1., -1.]),\n",
       "               'pos': array([-1104.,   -88.,   113.])}},\n",
       "             2: {0: {'idx': [0, 2, 1],\n",
       "               'sign': array([-1.,  1.,  1.]),\n",
       "               'pos': array([ 1105., -1205.,  1229.])},\n",
       "              1: {'idx': [0, 2, 1],\n",
       "               'sign': array([ 1.,  1., -1.]),\n",
       "               'pos': array([-1037.,    41., -1272.])},\n",
       "              3: {'idx': [0, 2, 1],\n",
       "               'sign': array([ 1.,  1., -1.]),\n",
       "               'pos': array([-1197.,  1175., -1249.])},\n",
       "              4: {'idx': [1, 0, 2],\n",
       "               'sign': array([ 1.,  1., -1.]),\n",
       "               'pos': array([  168., -1125.,    72.])}},\n",
       "             4: {0: {'idx': [1, 2, 0],\n",
       "               'sign': array([-1., -1.,  1.]),\n",
       "               'pos': array([  -20., -1133.,  1061.])},\n",
       "              1: {'idx': [1, 2, 0],\n",
       "               'sign': array([ 1., -1., -1.]),\n",
       "               'pos': array([   88.,   113., -1104.])},\n",
       "              2: {'idx': [1, 0, 2],\n",
       "               'sign': array([ 1.,  1., -1.]),\n",
       "               'pos': array([1125., -168.,   72.])},\n",
       "              3: {'idx': [1, 2, 0],\n",
       "               'sign': array([ 1., -1., -1.]),\n",
       "               'pos': array([  -72.,  1247., -1081.])}},\n",
       "             3: {1: {'idx': [0, 1, 2],\n",
       "               'sign': array([1., 1., 1.]),\n",
       "               'pos': array([  160., -1134.,   -23.])},\n",
       "              2: {'idx': [0, 2, 1],\n",
       "               'sign': array([ 1., -1.,  1.]),\n",
       "               'pos': array([ 1197., -1249., -1175.])},\n",
       "              4: {'idx': [2, 0, 1],\n",
       "               'sign': array([-1.,  1., -1.]),\n",
       "               'pos': array([-1081.,    72.,  1247.])}},\n",
       "             0: {1: {'idx': [0, 1, 2],\n",
       "               'sign': array([-1.,  1., -1.]),\n",
       "               'pos': array([  68., 1246.,  -43.])},\n",
       "              2: {'idx': [0, 2, 1],\n",
       "               'sign': array([-1.,  1.,  1.]),\n",
       "               'pos': array([ 1105., -1229.,  1205.])},\n",
       "              4: {'idx': [2, 0, 1],\n",
       "               'sign': array([ 1., -1., -1.]),\n",
       "               'pos': array([-1061.,   -20., -1133.])}}})"
      ]
     },
     "execution_count": 691,
     "metadata": {},
     "output_type": "execute_result"
    }
   ],
   "source": [
    "offsets"
   ]
  },
  {
   "cell_type": "code",
   "execution_count": 582,
   "metadata": {},
   "outputs": [
    {
     "data": {
      "text/plain": [
       "array([   20.,  1359., -1061.])"
      ]
     },
     "execution_count": 582,
     "metadata": {},
     "output_type": "execute_result"
    }
   ],
   "source": [
    "(sc1_id1_pos - sc2_conv_full) - np.array([   68., -1246.,   -43.])"
   ]
  },
  {
   "cell_type": "code",
   "execution_count": 575,
   "metadata": {},
   "outputs": [
    {
     "data": {
      "text/plain": [
       "array([   68., -1246.,   -43.])"
      ]
     },
     "execution_count": 575,
     "metadata": {},
     "output_type": "execute_result"
    }
   ],
   "source": [
    "sc1_id1_pos - sc2_conv_full"
   ]
  },
  {
   "cell_type": "code",
   "execution_count": null,
   "metadata": {},
   "outputs": [],
   "source": [
    "def get_beacon_distances(scanner):\n",
    "    distances = defaultdict(list)\n",
    "    for i in range(len(scanner)):\n",
    "        src = scanner[i]\n",
    "        for j in range(i + 1, len(scanner)):\n",
    "            dist = np.linalg.norm(src - scanner[j])\n",
    "            if dist in distances:\n",
    "                raise ValueError(\"Dupe distance\", i)\n",
    "            distances[dist] = (i, j)\n",
    "    return distances\n"
   ]
  },
  {
   "cell_type": "code",
   "execution_count": 698,
   "metadata": {},
   "outputs": [],
   "source": [
    "def get_route_to_zero(offsets, path):\n",
    "    idx = path[-1]\n",
    "    if idx == 0:\n",
    "        return path\n",
    "    if 0 in offsets[idx]:\n",
    "        return path + [0]\n",
    "    paths = []\n",
    "    for next_idx in offsets[idx]:\n",
    "        if next_idx not in path:\n",
    "            p = get_route_to_zero(offsets, path + [next_idx])\n",
    "            if p:\n",
    "                paths.append(p)\n",
    "    return sorted(paths)[0] if paths else None"
   ]
  },
  {
   "cell_type": "code",
   "execution_count": 455,
   "metadata": {},
   "outputs": [],
   "source": [
    "# offsets_copy = deepcopy(offsets)\n",
    "# offsets_to_zero = {}\n",
    "# for i in range(1, len(scanners)):\n",
    "#     print(f'For {i} to 0')\n",
    "#     route_to_zero = get_route_to_zero(offsets_copy, [i])[1:]\n",
    "#     if not route_to_zero:\n",
    "#         continue\n",
    "#     # print(route_to_zero)\n",
    "#     next_id = route_to_zero.pop(0)\n",
    "#     current_offset = offsets_copy[i][next_id]\n",
    "#     curr_id = next_id\n",
    "#     for next_id in route_to_zero:\n",
    "#         # print(curr_id, '->', next_id)\n",
    "#         next_offset = offsets_copy[curr_id][next_id]\n",
    "#         # print(current_offset)\n",
    "#         current_offset['sign'] *= next_offset['sign']\n",
    "#         current_offset['pos'] += next_offset['pos']\n",
    "#         current_offset['idx'] = [current_offset['idx'][i] for i in next_offset['idx']]\n",
    "#         # print(current_offset)\n",
    "#         curr_id = next_id\n",
    "#     offsets_to_zero[i] = current_offset"
   ]
  },
  {
   "cell_type": "code",
   "execution_count": 612,
   "metadata": {},
   "outputs": [],
   "source": [
    "def transform_point(point, offset):\n",
    "    adjusted = [point[i] for i in offset['idx']]\n",
    "    adjusted *= offset['sign']\n",
    "    adjusted += offset['pos']\n",
    "    return adjusted"
   ]
  },
  {
   "cell_type": "code",
   "execution_count": 314,
   "metadata": {},
   "outputs": [],
   "source": [
    "def transform_point_to_scanner_zero(src_scanner_id, point):\n",
    "    rtz = get_route_to_zero(offsets, [src_scanner_id])\n",
    "    for curr_id, next_id in zip(rtz[:-1], rtz[1:]):\n",
    "        point = transform_point_between_scanners(curr_id, next_id, point)\n",
    "    return point\n",
    "\n",
    "def transform_point_between_scanners(src_scanner_id, dst_scanner_id, point):\n",
    "    # offset = offsets_to_zero[src_scanner]\n",
    "    offset = offsets[src_scanner_id][dst_scanner_id]\n",
    "    return transform_point(point, offset)"
   ]
  },
  {
   "cell_type": "code",
   "execution_count": 470,
   "metadata": {},
   "outputs": [
    {
     "data": {
      "text/plain": [
       "[7, 8, 16, 3, 19, 25, 1, 0]"
      ]
     },
     "execution_count": 470,
     "metadata": {},
     "output_type": "execute_result"
    }
   ],
   "source": [
    "get_route_to_zero(offsets, [7])"
   ]
  },
  {
   "cell_type": "code",
   "execution_count": 699,
   "metadata": {},
   "outputs": [
    {
     "name": "stdout",
     "output_type": "stream",
     "text": [
      "[0]\n",
      "[1, 0]\n",
      "[2, 0]\n",
      "[3, 1, 0]\n",
      "[4, 0]\n"
     ]
    }
   ],
   "source": [
    "for i in range(len(scanners)):\n",
    "    print(get_route_to_zero(offsets, [i]))"
   ]
  },
  {
   "cell_type": "code",
   "execution_count": 703,
   "metadata": {},
   "outputs": [
    {
     "ename": "KeyError",
     "evalue": "0",
     "output_type": "error",
     "traceback": [
      "\u001b[1;31m---------------------------------------------------------------------------\u001b[0m",
      "\u001b[1;31mKeyError\u001b[0m                                  Traceback (most recent call last)",
      "\u001b[1;32m~\\AppData\\Local\\Temp/ipykernel_23620/9649543.py\u001b[0m in \u001b[0;36m<module>\u001b[1;34m\u001b[0m\n\u001b[0;32m      1\u001b[0m \u001b[0msrc_scanner\u001b[0m \u001b[1;33m=\u001b[0m \u001b[1;36m4\u001b[0m\u001b[1;33m\u001b[0m\u001b[1;33m\u001b[0m\u001b[0m\n\u001b[0;32m      2\u001b[0m \u001b[0mdst_scanner\u001b[0m \u001b[1;33m=\u001b[0m \u001b[1;36m0\u001b[0m\u001b[1;33m\u001b[0m\u001b[1;33m\u001b[0m\u001b[0m\n\u001b[1;32m----> 3\u001b[1;33m \u001b[1;32mfor\u001b[0m \u001b[0msrc_id\u001b[0m\u001b[1;33m,\u001b[0m \u001b[0mdst_id\u001b[0m \u001b[1;32min\u001b[0m \u001b[0mid_maps_12_full\u001b[0m\u001b[1;33m[\u001b[0m\u001b[0msrc_scanner\u001b[0m\u001b[1;33m]\u001b[0m\u001b[1;33m[\u001b[0m\u001b[0mdst_scanner\u001b[0m\u001b[1;33m]\u001b[0m\u001b[1;33m.\u001b[0m\u001b[0mitems\u001b[0m\u001b[1;33m(\u001b[0m\u001b[1;33m)\u001b[0m\u001b[1;33m:\u001b[0m\u001b[1;33m\u001b[0m\u001b[1;33m\u001b[0m\u001b[0m\n\u001b[0m\u001b[0;32m      4\u001b[0m     \u001b[0msrc_point\u001b[0m \u001b[1;33m=\u001b[0m \u001b[0mscanners\u001b[0m\u001b[1;33m[\u001b[0m\u001b[0msrc_scanner\u001b[0m\u001b[1;33m]\u001b[0m\u001b[1;33m[\u001b[0m\u001b[0msrc_id\u001b[0m\u001b[1;33m]\u001b[0m\u001b[1;33m\u001b[0m\u001b[1;33m\u001b[0m\u001b[0m\n\u001b[0;32m      5\u001b[0m     \u001b[0mdst_point\u001b[0m \u001b[1;33m=\u001b[0m \u001b[0mscanners\u001b[0m\u001b[1;33m[\u001b[0m\u001b[0mdst_scanner\u001b[0m\u001b[1;33m]\u001b[0m\u001b[1;33m[\u001b[0m\u001b[0mdst_id\u001b[0m\u001b[1;33m]\u001b[0m\u001b[1;33m\u001b[0m\u001b[1;33m\u001b[0m\u001b[0m\n",
      "\u001b[1;31mKeyError\u001b[0m: 0"
     ]
    }
   ],
   "source": [
    "src_scanner = 4\n",
    "dst_scanner = 4\n",
    "for src_id, dst_id in id_maps_12_full[src_scanner][dst_scanner].items():\n",
    "    src_point = scanners[src_scanner][src_id]\n",
    "    dst_point = scanners[dst_scanner][dst_id]\n",
    "    # print('\\t', pta)\n",
    "    # adjusted = transform_point_to_scanner_zero(src_scanner, scanners[src_scanner][src_id])\n",
    "    adjusted = transform_point_between_scanners(src_scanner, dst_scanner, src_point)\n",
    "    # adjusted_zero = transform_point_between_scanners(dst_scanner, 0, adjusted)\n",
    "    print(src_point, '->', dst_point, ':', adjusted, (adjusted == dst_point).all())"
   ]
  },
  {
   "cell_type": "code",
   "execution_count": 602,
   "metadata": {},
   "outputs": [
    {
     "data": {
      "text/plain": [
       "({'idx': [0, 1, 2],\n",
       "  'sign': array([1., 1., 1.]),\n",
       "  'pos': array([-160., 1134.,   23.])},\n",
       " {'idx': [0, 1, 2],\n",
       "  'sign': array([-1.,  1., -1.]),\n",
       "  'pos': array([ -68., 1246.,   43.])})"
      ]
     },
     "execution_count": 602,
     "metadata": {},
     "output_type": "execute_result"
    }
   ],
   "source": [
    "offsets[3][1], offsets[1][0]"
   ]
  },
  {
   "cell_type": "code",
   "execution_count": 565,
   "metadata": {},
   "outputs": [
    {
     "data": {
      "text/plain": [
       "array([ -20., 1133., 1061.])"
      ]
     },
     "execution_count": 565,
     "metadata": {},
     "output_type": "execute_result"
    }
   ],
   "source": [
    "(offsets[4][1]['pos'] \n",
    "# * offsets[4][1]['sign'] \n",
    "+ offsets[1][0]['pos'] \n",
    "* offsets[1][0]['sign']\n",
    ")"
   ]
  },
  {
   "cell_type": "code",
   "execution_count": 711,
   "metadata": {},
   "outputs": [],
   "source": [
    "all_points = scanners[0].copy()\n",
    "for scanner_id in range(1, len(scanners)):\n",
    "    for point in scanners[scanner_id]:\n",
    "        all_points.append(transform_point_to_scanner_zero(scanner_id, point))\n"
   ]
  },
  {
   "cell_type": "code",
   "execution_count": 712,
   "metadata": {},
   "outputs": [
    {
     "data": {
      "text/plain": [
       "512"
      ]
     },
     "execution_count": 712,
     "metadata": {},
     "output_type": "execute_result"
    }
   ],
   "source": [
    "len(set(tuple(p) for p in all_points))"
   ]
  },
  {
   "cell_type": "code",
   "execution_count": 636,
   "metadata": {},
   "outputs": [],
   "source": [
    "def get_scanner_location_from_zero(src_scanner_id):\n",
    "    rtz = get_route_to_zero(offsets, [src_scanner_id])\n",
    "    point = offsets[rtz[0]][rtz[1]]['pos']\n",
    "    return transform_point_to_scanner_zero(rtz[1], point)"
   ]
  },
  {
   "cell_type": "code",
   "execution_count": 713,
   "metadata": {},
   "outputs": [],
   "source": [
    "scanner_locations = []\n",
    "for i in range(1, len(scanners)):\n",
    "    scanner_locations.append(get_scanner_location_from_zero(i))"
   ]
  },
  {
   "cell_type": "code",
   "execution_count": 714,
   "metadata": {},
   "outputs": [],
   "source": [
    "def manhattan_distance(a, b):\n",
    "    return sum(abs(a_val - b_val) for a_val, b_val in zip(a, b))\n"
   ]
  },
  {
   "cell_type": "code",
   "execution_count": 715,
   "metadata": {},
   "outputs": [],
   "source": [
    "m_dists = []\n",
    "for a, b in list(combinations(scanner_locations, 2)):\n",
    "    m_dists.append(manhattan_distance(a, b))"
   ]
  },
  {
   "cell_type": "code",
   "execution_count": 716,
   "metadata": {},
   "outputs": [
    {
     "data": {
      "text/plain": [
       "15739.0"
      ]
     },
     "execution_count": 716,
     "metadata": {},
     "output_type": "execute_result"
    }
   ],
   "source": [
    "max(m_dists)"
   ]
  },
  {
   "cell_type": "code",
   "execution_count": 717,
   "metadata": {},
   "outputs": [
    {
     "name": "stdout",
     "output_type": "stream",
     "text": [
      "86\n",
      "0\n"
     ]
    }
   ],
   "source": [
    "yes = []\n",
    "no = []\n",
    "for src_scanner, dst_scanners in id_maps_12_full.items():\n",
    "    for dst_scanner, id_map in dst_scanners.items():\n",
    "        matched = []\n",
    "        for src_id, dst_id in id_map.items():\n",
    "            src_point = scanners[src_scanner][src_id]\n",
    "            dst_point = scanners[dst_scanner][dst_id]\n",
    "            adjusted = transform_point_between_scanners(src_scanner, dst_scanner, src_point)\n",
    "            matched.append((adjusted == dst_point).all())\n",
    "            # print(src_point, '->', dst_point, ':', adjusted, (adjusted == dst_point).all())\n",
    "        if all(matched):\n",
    "            yes.append((src_scanner, dst_scanner))\n",
    "        else:\n",
    "            no.append((src_scanner, dst_scanner))\n",
    "        # print(src_scanner, '->', dst_scanner, all(matched))\n",
    "\n",
    "print(len(yes))\n",
    "print(len(no))"
   ]
  },
  {
   "cell_type": "code",
   "execution_count": 466,
   "metadata": {},
   "outputs": [
    {
     "data": {
      "text/plain": [
       "[(7, 29), (29, 7)]"
      ]
     },
     "execution_count": 466,
     "metadata": {},
     "output_type": "execute_result"
    }
   ],
   "source": [
    "no"
   ]
  },
  {
   "cell_type": "code",
   "execution_count": 324,
   "metadata": {},
   "outputs": [],
   "source": [
    "t = '''-892,524,684\n",
    "-876,649,763\n",
    "-838,591,734\n",
    "-789,900,-551\n",
    "-739,-1745,668\n",
    "-706,-3180,-659\n",
    "-697,-3072,-689\n",
    "-689,845,-530\n",
    "-687,-1600,576\n",
    "-661,-816,-575\n",
    "-654,-3158,-753\n",
    "-635,-1737,486\n",
    "-631,-672,1502\n",
    "-624,-1620,1868\n",
    "-620,-3212,371\n",
    "-618,-824,-621\n",
    "-612,-1695,1788\n",
    "-601,-1648,-643\n",
    "-584,868,-557\n",
    "-537,-823,-458\n",
    "-532,-1715,1894\n",
    "-518,-1681,-600\n",
    "-499,-1607,-770\n",
    "-485,-357,347\n",
    "-470,-3283,303\n",
    "-456,-621,1527\n",
    "-447,-329,318\n",
    "-430,-3130,366\n",
    "-413,-627,1469\n",
    "-345,-311,381\n",
    "-36,-1284,1171\n",
    "-27,-1108,-65\n",
    "7,-33,-71\n",
    "12,-2351,-103\n",
    "26,-1119,1091\n",
    "346,-2985,342\n",
    "366,-3059,397\n",
    "377,-2827,367\n",
    "390,-675,-793\n",
    "396,-1931,-563\n",
    "404,-588,-901\n",
    "408,-1815,803\n",
    "423,-701,434\n",
    "432,-2009,850\n",
    "443,580,662\n",
    "455,729,728\n",
    "456,-540,1869\n",
    "459,-707,401\n",
    "465,-695,1988\n",
    "474,580,667\n",
    "496,-1584,1900\n",
    "497,-1838,-617\n",
    "527,-524,1933\n",
    "528,-643,409\n",
    "534,-1912,768\n",
    "544,-627,-890\n",
    "553,345,-567\n",
    "564,392,-477\n",
    "568,-2007,-577\n",
    "605,-1665,1952\n",
    "612,-1593,1893\n",
    "630,319,-379\n",
    "686,-3108,-505\n",
    "776,-3184,-501\n",
    "846,-3110,-434\n",
    "1135,-1161,1235\n",
    "1243,-1093,1063\n",
    "1660,-552,429\n",
    "1693,-557,386\n",
    "1735,-437,1738\n",
    "1749,-1800,1813\n",
    "1772,-405,1572\n",
    "1776,-675,371\n",
    "1779,-442,1789\n",
    "1780,-1548,337\n",
    "1786,-1538,337\n",
    "1847,-1591,415\n",
    "1889,-1729,1762\n",
    "1994,-1805,1792'''\n",
    "beacons = [tuple(map(int, line.split(','))) for line in t.splitlines()]"
   ]
  },
  {
   "cell_type": "code",
   "execution_count": 360,
   "metadata": {},
   "outputs": [],
   "source": [
    "sc0 = set(tuple(p) for p in scanners[0])"
   ]
  },
  {
   "cell_type": "code",
   "execution_count": 361,
   "metadata": {},
   "outputs": [
    {
     "data": {
      "text/plain": [
       "25"
      ]
     },
     "execution_count": 361,
     "metadata": {},
     "output_type": "execute_result"
    }
   ],
   "source": [
    "len(sc0)"
   ]
  }
 ],
 "metadata": {
  "interpreter": {
   "hash": "61c857870988a9fae64b19d65196016545575ba9cf2136e897e3d2bf5265e315"
  },
  "kernelspec": {
   "display_name": "Python 3.9.6 64-bit ('venv': venv)",
   "language": "python",
   "name": "python3"
  },
  "language_info": {
   "codemirror_mode": {
    "name": "ipython",
    "version": 3
   },
   "file_extension": ".py",
   "mimetype": "text/x-python",
   "name": "python",
   "nbconvert_exporter": "python",
   "pygments_lexer": "ipython3",
   "version": "3.9.6"
  },
  "orig_nbformat": 4
 },
 "nbformat": 4,
 "nbformat_minor": 2
}
