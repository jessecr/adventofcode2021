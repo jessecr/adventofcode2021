{
 "cells": [
  {
   "cell_type": "code",
   "execution_count": 5,
   "metadata": {},
   "outputs": [],
   "source": [
    "import numpy as np\n",
    "from operator import mul"
   ]
  },
  {
   "cell_type": "code",
   "execution_count": 95,
   "metadata": {},
   "outputs": [],
   "source": [
    "input_file = \"example_input\"\n",
    "input_file = \"input\"\n",
    "\n",
    "algo, input_image = open(input_file).read().split('\\n\\n')\n",
    "\n",
    "input_array = np.array(list(map(list[str], input_image.splitlines())))"
   ]
  },
  {
   "cell_type": "code",
   "execution_count": 12,
   "metadata": {},
   "outputs": [
    {
     "data": {
      "text/plain": [
       "(2, 5)"
      ]
     },
     "execution_count": 12,
     "metadata": {},
     "output_type": "execute_result"
    }
   ],
   "source": [
    "input_array[1:3].shape\n"
   ]
  },
  {
   "cell_type": "code",
   "execution_count": 14,
   "metadata": {},
   "outputs": [
    {
     "data": {
      "text/plain": [
       "array([['.', '.', '.', '.', '.'],\n",
       "       ['.', '.', '.', '.', '.'],\n",
       "       ['.', '.', '.', '.', '.']], dtype='<U1')"
      ]
     },
     "execution_count": 14,
     "metadata": {},
     "output_type": "execute_result"
    }
   ],
   "source": [
    "np.array(['.'] * input_array.shape[1] * 3).reshape(3, -1)"
   ]
  },
  {
   "cell_type": "code",
   "execution_count": 103,
   "metadata": {},
   "outputs": [
    {
     "data": {
      "text/plain": [
       "array([['.', '.', '.', ..., '.', '.', '.'],\n",
       "       ['.', '.', '.', ..., '.', '.', '.'],\n",
       "       ['.', '.', '.', ..., '.', '.', '.'],\n",
       "       ...,\n",
       "       ['.', '.', '.', ..., '.', '.', '.'],\n",
       "       ['.', '.', '.', ..., '.', '.', '.'],\n",
       "       ['.', '.', '.', ..., '.', '.', '.']], dtype='<U1')"
      ]
     },
     "execution_count": 103,
     "metadata": {},
     "output_type": "execute_result"
    }
   ],
   "source": [
    "num_border_rows = num_border_cols = 100\n",
    "empty_rows = np.array(['.'] * input_array.shape[1] * num_border_rows).reshape(num_border_rows, -1)\n",
    "o = np.vstack((empty_rows, input_array, empty_rows))\n",
    "empty_cols = np.array(['.'] * o.shape[0] * num_border_cols).reshape(-1, num_border_cols)\n",
    "inp_arr = np.hstack((empty_cols, o, empty_cols))\n",
    "inp_arr"
   ]
  },
  {
   "cell_type": "code",
   "execution_count": 77,
   "metadata": {},
   "outputs": [],
   "source": [
    "def get_input_grid(input_array, center):\n",
    "    row_slice = center[0] - 1, center[0] + 2\n",
    "    col_slice = center[1] - 1, center[1] + 2\n",
    "    return input_array[row_slice[0] : row_slice[1], col_slice[0] : col_slice[1]]\n",
    "\n",
    "def get_grid_number(input_array, center):\n",
    "    grid = get_input_grid(input_array, center)\n",
    "    return int(''.join(grid.flatten()).replace('.', '0').replace('#', '1'), 2)\n",
    "\n",
    "def get_output_image_character(input_array, point):\n",
    "    n = get_grid_number(input_array, point)\n",
    "    return algo[n]"
   ]
  },
  {
   "cell_type": "code",
   "execution_count": 81,
   "metadata": {},
   "outputs": [],
   "source": [
    "def create_output(input_array):\n",
    "    output = []\n",
    "    for r in range(1, input_array.shape[0] - 1):\n",
    "        row = []\n",
    "        for c in range(1, input_array.shape[1] - 1):\n",
    "            row.append(get_output_image_character(input_array, (r, c)))\n",
    "        output.append(row)\n",
    "\n",
    "    return np.array(output)\n"
   ]
  },
  {
   "cell_type": "code",
   "execution_count": 84,
   "metadata": {},
   "outputs": [
    {
     "data": {
      "text/plain": [
       "array([['.', '.', '.', '.', '.', '.', '.', '.', '.', '.', '.'],\n",
       "       ['.', '.', '.', '.', '.', '.', '.', '.', '.', '.', '.'],\n",
       "       ['.', '.', '.', '#', '#', '.', '#', '#', '.', '.', '.'],\n",
       "       ['.', '.', '#', '.', '.', '#', '.', '#', '.', '.', '.'],\n",
       "       ['.', '.', '#', '#', '.', '#', '.', '.', '#', '.', '.'],\n",
       "       ['.', '.', '#', '#', '#', '#', '.', '.', '#', '.', '.'],\n",
       "       ['.', '.', '.', '#', '.', '.', '#', '#', '.', '.', '.'],\n",
       "       ['.', '.', '.', '.', '#', '#', '.', '.', '#', '.', '.'],\n",
       "       ['.', '.', '.', '.', '.', '#', '.', '#', '.', '.', '.'],\n",
       "       ['.', '.', '.', '.', '.', '.', '.', '.', '.', '.', '.'],\n",
       "       ['.', '.', '.', '.', '.', '.', '.', '.', '.', '.', '.']],\n",
       "      dtype='<U1')"
      ]
     },
     "execution_count": 84,
     "metadata": {},
     "output_type": "execute_result"
    }
   ],
   "source": [
    "output"
   ]
  },
  {
   "cell_type": "code",
   "execution_count": 104,
   "metadata": {},
   "outputs": [
    {
     "data": {
      "text/plain": [
       "14279"
      ]
     },
     "execution_count": 104,
     "metadata": {},
     "output_type": "execute_result"
    }
   ],
   "source": [
    "output = inp_arr\n",
    "for _ in range(50):\n",
    "    output = create_output(output)\n",
    "\n",
    "output.flatten().tolist().count('#')"
   ]
  },
  {
   "cell_type": "code",
   "execution_count": 89,
   "metadata": {},
   "outputs": [
    {
     "data": {
      "text/plain": [
       "[['.', '.', '.', '.', '.', '.', '.', '.', '.', '.', '.'],\n",
       " ['.', '.', '.', '.', '.', '.', '.', '.', '.', '.', '.'],\n",
       " ['.', '.', '.', '#', '#', '.', '#', '#', '.', '.', '.'],\n",
       " ['.', '.', '#', '.', '.', '#', '.', '#', '.', '.', '.'],\n",
       " ['.', '.', '#', '#', '.', '#', '.', '.', '#', '.', '.'],\n",
       " ['.', '.', '#', '#', '#', '#', '.', '.', '#', '.', '.'],\n",
       " ['.', '.', '.', '#', '.', '.', '#', '#', '.', '.', '.'],\n",
       " ['.', '.', '.', '.', '#', '#', '.', '.', '#', '.', '.'],\n",
       " ['.', '.', '.', '.', '.', '#', '.', '#', '.', '.', '.'],\n",
       " ['.', '.', '.', '.', '.', '.', '.', '.', '.', '.', '.'],\n",
       " ['.', '.', '.', '.', '.', '.', '.', '.', '.', '.', '.']]"
      ]
     },
     "execution_count": 89,
     "metadata": {},
     "output_type": "execute_result"
    }
   ],
   "source": [
    "list(map(list, output))"
   ]
  },
  {
   "cell_type": "code",
   "execution_count": 76,
   "metadata": {},
   "outputs": [
    {
     "data": {
      "text/plain": [
       "'.'"
      ]
     },
     "execution_count": 76,
     "metadata": {},
     "output_type": "execute_result"
    }
   ],
   "source": [
    "inp_arr[3,7]"
   ]
  },
  {
   "cell_type": "code",
   "execution_count": 78,
   "metadata": {},
   "outputs": [
    {
     "data": {
      "text/plain": [
       "array([['.', '.', '.'],\n",
       "       ['.', '.', '.'],\n",
       "       ['.', '.', '#']], dtype='<U1')"
      ]
     },
     "execution_count": 78,
     "metadata": {},
     "output_type": "execute_result"
    }
   ],
   "source": [
    "get_grid_number(inp_arr, (3, 6))\n",
    "get_input_grid(inp_arr, (3, 6))"
   ]
  },
  {
   "cell_type": "code",
   "execution_count": 69,
   "metadata": {},
   "outputs": [
    {
     "data": {
      "text/plain": [
       "[['.', '.', '.', '.', '.', '.', '.', '.', '.', '.', '.'],\n",
       " ['.', '.', '.', '.', '.', '.', '.', '.', '.', '.', '.'],\n",
       " ['.', '.', '.', '#', '#', '#', '.', '.', '.', '.', '.'],\n",
       " ['.', '.', '#', '.', '#', '#', '#', '.', '.', '.', '.'],\n",
       " ['.', '.', '#', '.', '.', '#', '.', '#', '.', '.', '.'],\n",
       " ['.', '.', '.', '#', '#', '#', '.', '#', '#', '.', '.'],\n",
       " ['.', '.', '#', '.', '.', '.', '#', '.', '.', '.', '.'],\n",
       " ['.', '.', '#', '#', '.', '.', '#', '.', '#', '.', '.'],\n",
       " ['.', '.', '.', '.', '#', '#', '.', '#', '.', '.', '.'],\n",
       " ['.', '.', '.', '.', '.', '.', '.', '.', '.', '.', '.'],\n",
       " ['.', '.', '.', '.', '.', '.', '.', '.', '.', '.', '.']]"
      ]
     },
     "execution_count": 69,
     "metadata": {},
     "output_type": "execute_result"
    }
   ],
   "source": [
    "output"
   ]
  }
 ],
 "metadata": {
  "interpreter": {
   "hash": "61c857870988a9fae64b19d65196016545575ba9cf2136e897e3d2bf5265e315"
  },
  "kernelspec": {
   "display_name": "Python 3.9.6 64-bit ('venv': venv)",
   "language": "python",
   "name": "python3"
  },
  "language_info": {
   "codemirror_mode": {
    "name": "ipython",
    "version": 3
   },
   "file_extension": ".py",
   "mimetype": "text/x-python",
   "name": "python",
   "nbconvert_exporter": "python",
   "pygments_lexer": "ipython3",
   "version": "3.9.6"
  },
  "orig_nbformat": 4
 },
 "nbformat": 4,
 "nbformat_minor": 2
}
